{
  "cells": [
    {
      "cell_type": "markdown",
      "metadata": {},
      "source": [
        "# Import libraries"
      ]
    },
    {
      "cell_type": "code",
      "execution_count": 1,
      "metadata": {
        "id": "D2IliGyI62B0"
      },
      "outputs": [
        {
          "name": "stderr",
          "output_type": "stream",
          "text": [
            "2022-08-21 11:51:09.003590: I tensorflow/stream_executor/platform/default/dso_loader.cc:49] Successfully opened dynamic library libcudart.so.10.1\n"
          ]
        },
        {
          "name": "stdout",
          "output_type": "stream",
          "text": [
            "Num GPUs Available:  1\n"
          ]
        },
        {
          "name": "stderr",
          "output_type": "stream",
          "text": [
            "2022-08-21 11:51:09.982217: I tensorflow/compiler/jit/xla_cpu_device.cc:41] Not creating XLA devices, tf_xla_enable_xla_devices not set\n",
            "2022-08-21 11:51:09.982745: I tensorflow/stream_executor/platform/default/dso_loader.cc:49] Successfully opened dynamic library libcuda.so.1\n",
            "2022-08-21 11:51:09.996215: I tensorflow/stream_executor/cuda/cuda_gpu_executor.cc:941] successful NUMA node read from SysFS had negative value (-1), but there must be at least one NUMA node, so returning NUMA node zero\n",
            "2022-08-21 11:51:09.996388: I tensorflow/core/common_runtime/gpu/gpu_device.cc:1720] Found device 0 with properties: \n",
            "pciBusID: 0000:09:00.0 name: NVIDIA GeForce GTX 1660 SUPER computeCapability: 7.5\n",
            "coreClock: 1.8GHz coreCount: 22 deviceMemorySize: 5.80GiB deviceMemoryBandwidth: 312.97GiB/s\n",
            "2022-08-21 11:51:09.996401: I tensorflow/stream_executor/platform/default/dso_loader.cc:49] Successfully opened dynamic library libcudart.so.10.1\n",
            "2022-08-21 11:51:09.997501: I tensorflow/stream_executor/platform/default/dso_loader.cc:49] Successfully opened dynamic library libcublas.so.10\n",
            "2022-08-21 11:51:09.997524: I tensorflow/stream_executor/platform/default/dso_loader.cc:49] Successfully opened dynamic library libcublasLt.so.10\n",
            "2022-08-21 11:51:09.998626: I tensorflow/stream_executor/platform/default/dso_loader.cc:49] Successfully opened dynamic library libcufft.so.10\n",
            "2022-08-21 11:51:09.998799: I tensorflow/stream_executor/platform/default/dso_loader.cc:49] Successfully opened dynamic library libcurand.so.10\n",
            "2022-08-21 11:51:09.999917: I tensorflow/stream_executor/platform/default/dso_loader.cc:49] Successfully opened dynamic library libcusolver.so.10\n",
            "2022-08-21 11:51:10.000542: I tensorflow/stream_executor/platform/default/dso_loader.cc:49] Successfully opened dynamic library libcusparse.so.10\n",
            "2022-08-21 11:51:10.002895: I tensorflow/stream_executor/platform/default/dso_loader.cc:49] Successfully opened dynamic library libcudnn.so.7\n",
            "2022-08-21 11:51:10.003005: I tensorflow/stream_executor/cuda/cuda_gpu_executor.cc:941] successful NUMA node read from SysFS had negative value (-1), but there must be at least one NUMA node, so returning NUMA node zero\n",
            "2022-08-21 11:51:10.003188: I tensorflow/stream_executor/cuda/cuda_gpu_executor.cc:941] successful NUMA node read from SysFS had negative value (-1), but there must be at least one NUMA node, so returning NUMA node zero\n",
            "2022-08-21 11:51:10.003300: I tensorflow/core/common_runtime/gpu/gpu_device.cc:1862] Adding visible gpu devices: 0\n"
          ]
        }
      ],
      "source": [
        "import tensorflow as tf\n",
        "print(\"Num GPUs Available: \", len(tf.config.list_physical_devices('GPU')))"
      ]
    },
    {
      "cell_type": "code",
      "execution_count": 2,
      "metadata": {
        "colab": {
          "base_uri": "https://localhost:8080/"
        },
        "id": "4_fyxUHb7GuH",
        "outputId": "2c8a495d-cff8-49f1-b9c2-fa63165b0043"
      },
      "outputs": [
        {
          "name": "stdout",
          "output_type": "stream",
          "text": [
            "2.4.1\n"
          ]
        }
      ],
      "source": [
        "print(tf.__version__)"
      ]
    },
    {
      "cell_type": "code",
      "execution_count": 3,
      "metadata": {
        "id": "LLvV2K-o7KAp"
      },
      "outputs": [],
      "source": [
        "# Importing the libraries\n",
        "import numpy as np\n",
        "import matplotlib.pyplot as plt\n",
        "import pandas as pd"
      ]
    },
    {
      "cell_type": "markdown",
      "metadata": {},
      "source": [
        "# Prepare Data"
      ]
    },
    {
      "cell_type": "code",
      "execution_count": 4,
      "metadata": {
        "id": "gHRHobkK7Sxn"
      },
      "outputs": [],
      "source": [
        "# Importing the dataset\n",
        "dataset = pd.read_csv('Data/Churn_Modelling.csv')\n",
        "X = dataset.iloc[:, 3:13]\n",
        "y = dataset.iloc[:, 13]"
      ]
    },
    {
      "cell_type": "code",
      "execution_count": 5,
      "metadata": {
        "id": "T2yS0VL67Ufn"
      },
      "outputs": [],
      "source": [
        "#Create dummy variables\n",
        "geography=pd.get_dummies(X[\"Geography\"],drop_first=True)\n",
        "gender=pd.get_dummies(X['Gender'],drop_first=True)"
      ]
    },
    {
      "cell_type": "code",
      "execution_count": 6,
      "metadata": {
        "id": "Co2rxaFR7Wgo"
      },
      "outputs": [],
      "source": [
        "## Concatenate the Data Frames\n",
        "\n",
        "X=pd.concat([X,geography,gender],axis=1)\n",
        "\n",
        "## Drop Unnecessary columns\n",
        "X=X.drop(['Geography','Gender'],axis=1)\n",
        "\n",
        "# Splitting the dataset into the Training set and Test set\n",
        "from sklearn.model_selection import train_test_split\n",
        "X_train, X_test, y_train, y_test = train_test_split(X, y, test_size = 0.2, random_state = 0)"
      ]
    },
    {
      "cell_type": "code",
      "execution_count": 7,
      "metadata": {
        "id": "GNZrZXy37ZLs"
      },
      "outputs": [],
      "source": [
        "# Feature Scaling\n",
        "from sklearn.preprocessing import StandardScaler\n",
        "sc = StandardScaler()\n",
        "X_train = sc.fit_transform(X_train)\n",
        "X_test = sc.transform(X_test)"
      ]
    },
    {
      "cell_type": "markdown",
      "metadata": {
        "id": "uwN3bgie7bvT"
      },
      "source": [
        "# Part 2 - Now let's make the ANN!"
      ]
    },
    {
      "cell_type": "code",
      "execution_count": 8,
      "metadata": {
        "id": "rL_a7vWu7dj1"
      },
      "outputs": [],
      "source": [
        "from tensorflow.keras.models import Sequential\n",
        "from tensorflow.keras.layers import Dense\n",
        "from tensorflow.keras.layers import LeakyReLU,PReLU,ELU\n",
        "from tensorflow.keras.layers import Dropout"
      ]
    },
    {
      "cell_type": "code",
      "execution_count": 9,
      "metadata": {
        "id": "VDJwvrbZ7kj4"
      },
      "outputs": [
        {
          "name": "stderr",
          "output_type": "stream",
          "text": [
            "2022-08-21 11:51:10.782350: I tensorflow/core/platform/cpu_feature_guard.cc:142] This TensorFlow binary is optimized with oneAPI Deep Neural Network Library (oneDNN) to use the following CPU instructions in performance-critical operations:  SSE4.1 SSE4.2 AVX AVX2 FMA\n",
            "To enable them in other operations, rebuild TensorFlow with the appropriate compiler flags.\n",
            "2022-08-21 11:51:10.783101: I tensorflow/compiler/jit/xla_gpu_device.cc:99] Not creating XLA devices, tf_xla_enable_xla_devices not set\n",
            "2022-08-21 11:51:10.783275: I tensorflow/stream_executor/cuda/cuda_gpu_executor.cc:941] successful NUMA node read from SysFS had negative value (-1), but there must be at least one NUMA node, so returning NUMA node zero\n",
            "2022-08-21 11:51:10.783502: I tensorflow/core/common_runtime/gpu/gpu_device.cc:1720] Found device 0 with properties: \n",
            "pciBusID: 0000:09:00.0 name: NVIDIA GeForce GTX 1660 SUPER computeCapability: 7.5\n",
            "coreClock: 1.8GHz coreCount: 22 deviceMemorySize: 5.80GiB deviceMemoryBandwidth: 312.97GiB/s\n",
            "2022-08-21 11:51:10.783524: I tensorflow/stream_executor/platform/default/dso_loader.cc:49] Successfully opened dynamic library libcudart.so.10.1\n",
            "2022-08-21 11:51:10.783544: I tensorflow/stream_executor/platform/default/dso_loader.cc:49] Successfully opened dynamic library libcublas.so.10\n",
            "2022-08-21 11:51:10.783552: I tensorflow/stream_executor/platform/default/dso_loader.cc:49] Successfully opened dynamic library libcublasLt.so.10\n",
            "2022-08-21 11:51:10.783561: I tensorflow/stream_executor/platform/default/dso_loader.cc:49] Successfully opened dynamic library libcufft.so.10\n",
            "2022-08-21 11:51:10.783568: I tensorflow/stream_executor/platform/default/dso_loader.cc:49] Successfully opened dynamic library libcurand.so.10\n",
            "2022-08-21 11:51:10.783576: I tensorflow/stream_executor/platform/default/dso_loader.cc:49] Successfully opened dynamic library libcusolver.so.10\n",
            "2022-08-21 11:51:10.783583: I tensorflow/stream_executor/platform/default/dso_loader.cc:49] Successfully opened dynamic library libcusparse.so.10\n",
            "2022-08-21 11:51:10.783592: I tensorflow/stream_executor/platform/default/dso_loader.cc:49] Successfully opened dynamic library libcudnn.so.7\n",
            "2022-08-21 11:51:10.783630: I tensorflow/stream_executor/cuda/cuda_gpu_executor.cc:941] successful NUMA node read from SysFS had negative value (-1), but there must be at least one NUMA node, so returning NUMA node zero\n",
            "2022-08-21 11:51:10.783769: I tensorflow/stream_executor/cuda/cuda_gpu_executor.cc:941] successful NUMA node read from SysFS had negative value (-1), but there must be at least one NUMA node, so returning NUMA node zero\n",
            "2022-08-21 11:51:10.783882: I tensorflow/core/common_runtime/gpu/gpu_device.cc:1862] Adding visible gpu devices: 0\n",
            "2022-08-21 11:51:10.783905: I tensorflow/stream_executor/platform/default/dso_loader.cc:49] Successfully opened dynamic library libcudart.so.10.1\n",
            "2022-08-21 11:51:11.158227: I tensorflow/core/common_runtime/gpu/gpu_device.cc:1261] Device interconnect StreamExecutor with strength 1 edge matrix:\n",
            "2022-08-21 11:51:11.158257: I tensorflow/core/common_runtime/gpu/gpu_device.cc:1267]      0 \n",
            "2022-08-21 11:51:11.158262: I tensorflow/core/common_runtime/gpu/gpu_device.cc:1280] 0:   N \n",
            "2022-08-21 11:51:11.158460: I tensorflow/stream_executor/cuda/cuda_gpu_executor.cc:941] successful NUMA node read from SysFS had negative value (-1), but there must be at least one NUMA node, so returning NUMA node zero\n",
            "2022-08-21 11:51:11.158631: I tensorflow/stream_executor/cuda/cuda_gpu_executor.cc:941] successful NUMA node read from SysFS had negative value (-1), but there must be at least one NUMA node, so returning NUMA node zero\n",
            "2022-08-21 11:51:11.158775: I tensorflow/stream_executor/cuda/cuda_gpu_executor.cc:941] successful NUMA node read from SysFS had negative value (-1), but there must be at least one NUMA node, so returning NUMA node zero\n",
            "2022-08-21 11:51:11.158902: I tensorflow/core/common_runtime/gpu/gpu_device.cc:1406] Created TensorFlow device (/job:localhost/replica:0/task:0/device:GPU:0 with 4553 MB memory) -> physical GPU (device: 0, name: NVIDIA GeForce GTX 1660 SUPER, pci bus id: 0000:09:00.0, compute capability: 7.5)\n"
          ]
        }
      ],
      "source": [
        "# Initialising the ANN\n",
        "classifier = Sequential()"
      ]
    },
    {
      "cell_type": "code",
      "execution_count": 10,
      "metadata": {
        "id": "RSZQrU-g7z4N"
      },
      "outputs": [],
      "source": [
        "# Adding the input layer and the first hidden layer\n",
        "classifier.add(Dense(10,input_shape=(11,),activation='relu'))"
      ]
    },
    {
      "cell_type": "code",
      "execution_count": 11,
      "metadata": {
        "id": "byszZMvw8RcQ"
      },
      "outputs": [],
      "source": [
        "# Adding the input layer and the first hidden layer\n",
        "classifier.add(Dense(units=10,activation='relu'))"
      ]
    },
    {
      "cell_type": "code",
      "execution_count": 12,
      "metadata": {},
      "outputs": [],
      "source": [
        "# Adding the input layer and the first hidden layer\n",
        "classifier.add(Dense(units=10,activation='relu'))"
      ]
    },
    {
      "cell_type": "code",
      "execution_count": 13,
      "metadata": {
        "id": "Mk2slmAX8XUI"
      },
      "outputs": [],
      "source": [
        "# Adding the input layer and the first hidden layer\n",
        "classifier.add(Dense(1,activation='sigmoid'))"
      ]
    },
    {
      "cell_type": "code",
      "execution_count": 14,
      "metadata": {},
      "outputs": [
        {
          "name": "stdout",
          "output_type": "stream",
          "text": [
            "Model: \"sequential\"\n",
            "_________________________________________________________________\n",
            "Layer (type)                 Output Shape              Param #   \n",
            "=================================================================\n",
            "dense (Dense)                (None, 10)                120       \n",
            "_________________________________________________________________\n",
            "dense_1 (Dense)              (None, 10)                110       \n",
            "_________________________________________________________________\n",
            "dense_2 (Dense)              (None, 10)                110       \n",
            "_________________________________________________________________\n",
            "dense_3 (Dense)              (None, 1)                 11        \n",
            "=================================================================\n",
            "Total params: 351\n",
            "Trainable params: 351\n",
            "Non-trainable params: 0\n",
            "_________________________________________________________________\n"
          ]
        }
      ],
      "source": [
        "classifier.summary()"
      ]
    },
    {
      "cell_type": "code",
      "execution_count": 15,
      "metadata": {
        "id": "F2udThHo8cFt"
      },
      "outputs": [],
      "source": [
        "classifier.compile(optimizer='adam',loss='binary_crossentropy',metrics=['accuracy'])"
      ]
    },
    {
      "cell_type": "code",
      "execution_count": 16,
      "metadata": {
        "colab": {
          "base_uri": "https://localhost:8080/"
        },
        "id": "3qairJAs8fIc",
        "outputId": "0730a4ec-193f-41ae-daff-4ccc7673b142"
      },
      "outputs": [
        {
          "name": "stderr",
          "output_type": "stream",
          "text": [
            "2022-08-21 11:51:11.617653: I tensorflow/compiler/mlir/mlir_graph_optimization_pass.cc:116] None of the MLIR optimization passes are enabled (registered 2)\n",
            "2022-08-21 11:51:11.617940: I tensorflow/core/platform/profile_utils/cpu_utils.cc:112] CPU Frequency: 3594980000 Hz\n"
          ]
        },
        {
          "name": "stdout",
          "output_type": "stream",
          "text": [
            "Epoch 1/50\n",
            " 40/536 [=>............................] - ETA: 0s - loss: 0.7128 - accuracy: 0.3939  "
          ]
        },
        {
          "name": "stderr",
          "output_type": "stream",
          "text": [
            "2022-08-21 11:51:11.886278: I tensorflow/stream_executor/platform/default/dso_loader.cc:49] Successfully opened dynamic library libcublas.so.10\n"
          ]
        },
        {
          "name": "stdout",
          "output_type": "stream",
          "text": [
            "536/536 [==============================] - 2s 2ms/step - loss: 0.5823 - accuracy: 0.6948 - val_loss: 0.4456 - val_accuracy: 0.7989\n",
            "Epoch 2/50\n",
            "536/536 [==============================] - 1s 2ms/step - loss: 0.4306 - accuracy: 0.8008 - val_loss: 0.4164 - val_accuracy: 0.8092\n",
            "Epoch 3/50\n",
            "536/536 [==============================] - 1s 2ms/step - loss: 0.3887 - accuracy: 0.8322 - val_loss: 0.3958 - val_accuracy: 0.8201\n",
            "Epoch 4/50\n",
            "536/536 [==============================] - 1s 2ms/step - loss: 0.3811 - accuracy: 0.8324 - val_loss: 0.3854 - val_accuracy: 0.8304\n",
            "Epoch 5/50\n",
            "536/536 [==============================] - 1s 2ms/step - loss: 0.3882 - accuracy: 0.8329 - val_loss: 0.3815 - val_accuracy: 0.8379\n",
            "Epoch 6/50\n",
            "536/536 [==============================] - 1s 2ms/step - loss: 0.3415 - accuracy: 0.8533 - val_loss: 0.3753 - val_accuracy: 0.8387\n",
            "Epoch 7/50\n",
            "536/536 [==============================] - 1s 2ms/step - loss: 0.3367 - accuracy: 0.8563 - val_loss: 0.3733 - val_accuracy: 0.8463\n",
            "Epoch 8/50\n",
            "536/536 [==============================] - 1s 2ms/step - loss: 0.3394 - accuracy: 0.8592 - val_loss: 0.3749 - val_accuracy: 0.8436\n",
            "Epoch 9/50\n",
            "536/536 [==============================] - 1s 2ms/step - loss: 0.3202 - accuracy: 0.8701 - val_loss: 0.3703 - val_accuracy: 0.8444\n",
            "Epoch 10/50\n",
            "536/536 [==============================] - 1s 2ms/step - loss: 0.3342 - accuracy: 0.8627 - val_loss: 0.3689 - val_accuracy: 0.8421\n",
            "Epoch 11/50\n",
            "536/536 [==============================] - 1s 2ms/step - loss: 0.3236 - accuracy: 0.8673 - val_loss: 0.3684 - val_accuracy: 0.8455\n",
            "Epoch 12/50\n",
            "536/536 [==============================] - 1s 2ms/step - loss: 0.3383 - accuracy: 0.8582 - val_loss: 0.3689 - val_accuracy: 0.8436\n",
            "Epoch 13/50\n",
            "536/536 [==============================] - 1s 2ms/step - loss: 0.3321 - accuracy: 0.8609 - val_loss: 0.3708 - val_accuracy: 0.8421\n",
            "Epoch 14/50\n",
            "536/536 [==============================] - 1s 2ms/step - loss: 0.3305 - accuracy: 0.8586 - val_loss: 0.3699 - val_accuracy: 0.8459\n",
            "Epoch 15/50\n",
            "536/536 [==============================] - 1s 2ms/step - loss: 0.3339 - accuracy: 0.8609 - val_loss: 0.3712 - val_accuracy: 0.8451\n",
            "Epoch 16/50\n",
            "536/536 [==============================] - 1s 2ms/step - loss: 0.3161 - accuracy: 0.8689 - val_loss: 0.3691 - val_accuracy: 0.8474\n",
            "Epoch 17/50\n",
            "536/536 [==============================] - 1s 2ms/step - loss: 0.3256 - accuracy: 0.8666 - val_loss: 0.3712 - val_accuracy: 0.8429\n",
            "Epoch 18/50\n",
            "536/536 [==============================] - 1s 2ms/step - loss: 0.3196 - accuracy: 0.8669 - val_loss: 0.3705 - val_accuracy: 0.8451\n",
            "Epoch 19/50\n",
            "536/536 [==============================] - 1s 2ms/step - loss: 0.3273 - accuracy: 0.8619 - val_loss: 0.3694 - val_accuracy: 0.8493\n",
            "Epoch 20/50\n",
            "536/536 [==============================] - 1s 2ms/step - loss: 0.3133 - accuracy: 0.8699 - val_loss: 0.3720 - val_accuracy: 0.8440\n",
            "Epoch 21/50\n",
            "536/536 [==============================] - 1s 2ms/step - loss: 0.3350 - accuracy: 0.8616 - val_loss: 0.3686 - val_accuracy: 0.8466\n",
            "Epoch 22/50\n",
            "536/536 [==============================] - 1s 2ms/step - loss: 0.3052 - accuracy: 0.8726 - val_loss: 0.3722 - val_accuracy: 0.8429\n",
            "Epoch 23/50\n",
            "536/536 [==============================] - 1s 2ms/step - loss: 0.3237 - accuracy: 0.8559 - val_loss: 0.3697 - val_accuracy: 0.8489\n",
            "Epoch 24/50\n",
            "536/536 [==============================] - 1s 2ms/step - loss: 0.3284 - accuracy: 0.8634 - val_loss: 0.3710 - val_accuracy: 0.8482\n",
            "Epoch 25/50\n",
            "536/536 [==============================] - 1s 2ms/step - loss: 0.3211 - accuracy: 0.8634 - val_loss: 0.3690 - val_accuracy: 0.8489\n",
            "Epoch 26/50\n",
            "536/536 [==============================] - 1s 2ms/step - loss: 0.3151 - accuracy: 0.8634 - val_loss: 0.3711 - val_accuracy: 0.8470\n",
            "Epoch 27/50\n",
            "536/536 [==============================] - 1s 2ms/step - loss: 0.3018 - accuracy: 0.8739 - val_loss: 0.3787 - val_accuracy: 0.8379\n",
            "Epoch 28/50\n",
            "536/536 [==============================] - 1s 2ms/step - loss: 0.3168 - accuracy: 0.8666 - val_loss: 0.3702 - val_accuracy: 0.8444\n",
            "Epoch 29/50\n",
            "536/536 [==============================] - 1s 2ms/step - loss: 0.3294 - accuracy: 0.8575 - val_loss: 0.3695 - val_accuracy: 0.8470\n",
            "Epoch 30/50\n",
            "536/536 [==============================] - 1s 2ms/step - loss: 0.3119 - accuracy: 0.8698 - val_loss: 0.3686 - val_accuracy: 0.8474\n",
            "Epoch 31/50\n",
            "536/536 [==============================] - 1s 2ms/step - loss: 0.3028 - accuracy: 0.8734 - val_loss: 0.3676 - val_accuracy: 0.8466\n",
            "Epoch 32/50\n",
            "536/536 [==============================] - 1s 2ms/step - loss: 0.3037 - accuracy: 0.8701 - val_loss: 0.3709 - val_accuracy: 0.8413\n",
            "Epoch 33/50\n",
            "536/536 [==============================] - 1s 2ms/step - loss: 0.3154 - accuracy: 0.8666 - val_loss: 0.3699 - val_accuracy: 0.8451\n",
            "Epoch 34/50\n",
            "536/536 [==============================] - 1s 2ms/step - loss: 0.3269 - accuracy: 0.8574 - val_loss: 0.3669 - val_accuracy: 0.8501\n",
            "Epoch 35/50\n",
            "536/536 [==============================] - 1s 2ms/step - loss: 0.3105 - accuracy: 0.8699 - val_loss: 0.3675 - val_accuracy: 0.8470\n",
            "Epoch 36/50\n",
            "536/536 [==============================] - 1s 2ms/step - loss: 0.3181 - accuracy: 0.8647 - val_loss: 0.3715 - val_accuracy: 0.8489\n",
            "Epoch 37/50\n",
            "536/536 [==============================] - 1s 2ms/step - loss: 0.3107 - accuracy: 0.8701 - val_loss: 0.3708 - val_accuracy: 0.8474\n",
            "Epoch 38/50\n",
            "536/536 [==============================] - 1s 2ms/step - loss: 0.3121 - accuracy: 0.8732 - val_loss: 0.3707 - val_accuracy: 0.8474\n",
            "Epoch 39/50\n",
            "536/536 [==============================] - 1s 2ms/step - loss: 0.3201 - accuracy: 0.8613 - val_loss: 0.3704 - val_accuracy: 0.8489\n",
            "Epoch 40/50\n",
            "536/536 [==============================] - 1s 2ms/step - loss: 0.3111 - accuracy: 0.8716 - val_loss: 0.3704 - val_accuracy: 0.8531\n",
            "Epoch 41/50\n",
            "536/536 [==============================] - 1s 2ms/step - loss: 0.3171 - accuracy: 0.8666 - val_loss: 0.3704 - val_accuracy: 0.8478\n",
            "Epoch 42/50\n",
            "536/536 [==============================] - 1s 2ms/step - loss: 0.3126 - accuracy: 0.8704 - val_loss: 0.3717 - val_accuracy: 0.8463\n",
            "Epoch 43/50\n",
            "536/536 [==============================] - 1s 2ms/step - loss: 0.3087 - accuracy: 0.8708 - val_loss: 0.3687 - val_accuracy: 0.8485\n",
            "Epoch 44/50\n",
            "536/536 [==============================] - 1s 2ms/step - loss: 0.3052 - accuracy: 0.8706 - val_loss: 0.3691 - val_accuracy: 0.8501\n",
            "Epoch 45/50\n",
            "536/536 [==============================] - 1s 2ms/step - loss: 0.3189 - accuracy: 0.8679 - val_loss: 0.3713 - val_accuracy: 0.8504\n",
            "Epoch 46/50\n",
            "536/536 [==============================] - 1s 2ms/step - loss: 0.3150 - accuracy: 0.8696 - val_loss: 0.3720 - val_accuracy: 0.8478\n",
            "Epoch 47/50\n",
            "536/536 [==============================] - 1s 2ms/step - loss: 0.3077 - accuracy: 0.8705 - val_loss: 0.3719 - val_accuracy: 0.8470\n",
            "Epoch 48/50\n",
            "536/536 [==============================] - 1s 2ms/step - loss: 0.3164 - accuracy: 0.8665 - val_loss: 0.3732 - val_accuracy: 0.8493\n",
            "Epoch 49/50\n",
            "536/536 [==============================] - 1s 2ms/step - loss: 0.3138 - accuracy: 0.8655 - val_loss: 0.3721 - val_accuracy: 0.8501\n",
            "Epoch 50/50\n",
            "536/536 [==============================] - 1s 2ms/step - loss: 0.3147 - accuracy: 0.8678 - val_loss: 0.3741 - val_accuracy: 0.8466\n"
          ]
        }
      ],
      "source": [
        "model_history=classifier.fit(X_train,y_train,validation_split=0.33,batch_size=10,epochs=50)"
      ]
    },
    {
      "cell_type": "code",
      "execution_count": 17,
      "metadata": {
        "colab": {
          "base_uri": "https://localhost:8080/"
        },
        "id": "Q9t_M4wICTTz",
        "outputId": "18fa935a-8009-407f-de61-7f6a83669624"
      },
      "outputs": [
        {
          "name": "stdout",
          "output_type": "stream",
          "text": [
            "dict_keys(['loss', 'accuracy', 'val_loss', 'val_accuracy'])\n"
          ]
        }
      ],
      "source": [
        "# list all data in history\n",
        "print(model_history.history.keys())"
      ]
    },
    {
      "cell_type": "code",
      "execution_count": 18,
      "metadata": {
        "colab": {
          "base_uri": "https://localhost:8080/",
          "height": 295
        },
        "id": "MMOyiwzgBlLY",
        "outputId": "aeb29600-3c1f-41aa-9e29-05acf6011ed8"
      },
      "outputs": [
        {
          "data": {
            "image/png": "[encoded data removed]",
            "text/plain": [
              "<Figure size 640x480 with 1 Axes>"
            ]
          },
          "metadata": {},
          "output_type": "display_data"
        }
      ],
      "source": [
        "# summarize history for accuracy\n",
        "plt.plot(model_history.history['accuracy'])\n",
        "plt.plot(model_history.history['val_accuracy'])\n",
        "plt.title('model accuracy')\n",
        "plt.ylabel('accuracy')\n",
        "plt.xlabel('epoch')\n",
        "plt.legend(['train', 'test'], loc='upper left')\n",
        "plt.show()"
      ]
    },
    {
      "cell_type": "code",
      "execution_count": 19,
      "metadata": {
        "colab": {
          "base_uri": "https://localhost:8080/",
          "height": 295
        },
        "id": "QH141RsQCEr0",
        "outputId": "4566dca0-b002-4f59-b6e8-f8654b414283"
      },
      "outputs": [
        {
          "data": {
            "image/png": "[encoded data removed]",
            "text/plain": [
              "<Figure size 640x480 with 1 Axes>"
            ]
          },
          "metadata": {},
          "output_type": "display_data"
        }
      ],
      "source": [
        "# summarize history for loss\n",
        "plt.plot(model_history.history['loss'])\n",
        "plt.plot(model_history.history['val_loss'])\n",
        "plt.title('model loss')\n",
        "plt.ylabel('loss')\n",
        "plt.xlabel('epoch')\n",
        "plt.legend(['train', 'test'], loc='upper left')\n",
        "plt.show()"
      ]
    },
    {
      "cell_type": "markdown",
      "metadata": {},
      "source": [
        "# Part 3 - Making the predictions and evaluating the model"
      ]
    },
    {
      "cell_type": "code",
      "execution_count": 20,
      "metadata": {
        "id": "OYqCIIkDCd8S"
      },
      "outputs": [],
      "source": [
        "# Predicting the Test set results\n",
        "y_pred = classifier.predict(X_test)\n",
        "y_pred = (y_pred > 0.5)"
      ]
    },
    {
      "cell_type": "code",
      "execution_count": 21,
      "metadata": {
        "colab": {
          "base_uri": "https://localhost:8080/"
        },
        "id": "cm3EeOGTCi3-",
        "outputId": "f3cfe210-0811-4c4e-ce72-4100b32bb79f"
      },
      "outputs": [
        {
          "data": {
            "text/plain": [
              "array([[1485,  110],\n",
              "       [ 180,  225]])"
            ]
          },
          "execution_count": 21,
          "metadata": {},
          "output_type": "execute_result"
        }
      ],
      "source": [
        "# Making the Confusion Matrix\n",
        "from sklearn.metrics import confusion_matrix\n",
        "cm = confusion_matrix(y_test, y_pred)\n",
        "cm"
      ]
    },
    {
      "cell_type": "code",
      "execution_count": 22,
      "metadata": {
        "id": "FgfRKzzOClmP"
      },
      "outputs": [],
      "source": [
        "# Calculate the Accuracy\n",
        "from sklearn.metrics import accuracy_score\n",
        "score=accuracy_score(y_pred,y_test)"
      ]
    },
    {
      "cell_type": "code",
      "execution_count": 23,
      "metadata": {
        "colab": {
          "base_uri": "https://localhost:8080/"
        },
        "id": "a_C5EETrCpSj",
        "outputId": "6e495c58-0149-453b-b0d6-592606fe5c80"
      },
      "outputs": [
        {
          "name": "stdout",
          "output_type": "stream",
          "text": [
            "Model Score is: 0.855\n"
          ]
        }
      ],
      "source": [
        "print(f'Model Score is: {score}')"
      ]
    }
  ],
  "metadata": {
    "colab": {
      "name": "Untitled63.ipynb",
      "provenance": []
    },
    "kernelspec": {
      "display_name": "Python 3.9.12 ('churn_tf')",
      "language": "python",
      "name": "python3"
    },
    "language_info": {
      "codemirror_mode": {
        "name": "ipython",
        "version": 3
      },
      "file_extension": ".py",
      "mimetype": "text/x-python",
      "name": "python",
      "nbconvert_exporter": "python",
      "pygments_lexer": "ipython3",
      "version": "3.9.12"
    },
    "vscode": {
      "interpreter": {
        "hash": "01119e4662336adb3c0ec8a615e80ef6057838427bce0787114a9aacf9aef39b"
      }
    }
  },
  "nbformat": 4,
  "nbformat_minor": 0
}
